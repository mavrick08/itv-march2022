{
 "cells": [
  {
   "cell_type": "code",
   "execution_count": 1,
   "id": "c43d6dd0",
   "metadata": {},
   "outputs": [],
   "source": [
    "import requests\n",
    "from bs4 import BeautifulSoup"
   ]
  },
  {
   "cell_type": "code",
   "execution_count": 2,
   "id": "ee1641fb",
   "metadata": {},
   "outputs": [],
   "source": [
    "base_url = 'https://webscraper.io/test-sites/e-commerce/static/computers/laptops?page='"
   ]
  },
  {
   "cell_type": "code",
   "execution_count": 5,
   "id": "e93d6091",
   "metadata": {},
   "outputs": [],
   "source": [
    "url_lst = []\n",
    "for i in range(1,21):\n",
    "    url_lst.append(base_url+str(i))"
   ]
  },
  {
   "cell_type": "code",
   "execution_count": 6,
   "id": "af4c391b",
   "metadata": {},
   "outputs": [
    {
     "name": "stdout",
     "output_type": "stream",
     "text": [
      "https://webscraper.io/test-sites/e-commerce/static/computers/laptops?page=1\n",
      "https://webscraper.io/test-sites/e-commerce/static/computers/laptops?page=2\n",
      "https://webscraper.io/test-sites/e-commerce/static/computers/laptops?page=3\n",
      "https://webscraper.io/test-sites/e-commerce/static/computers/laptops?page=4\n",
      "https://webscraper.io/test-sites/e-commerce/static/computers/laptops?page=5\n",
      "https://webscraper.io/test-sites/e-commerce/static/computers/laptops?page=6\n",
      "https://webscraper.io/test-sites/e-commerce/static/computers/laptops?page=7\n",
      "https://webscraper.io/test-sites/e-commerce/static/computers/laptops?page=8\n",
      "https://webscraper.io/test-sites/e-commerce/static/computers/laptops?page=9\n",
      "https://webscraper.io/test-sites/e-commerce/static/computers/laptops?page=10\n",
      "https://webscraper.io/test-sites/e-commerce/static/computers/laptops?page=11\n",
      "https://webscraper.io/test-sites/e-commerce/static/computers/laptops?page=12\n",
      "https://webscraper.io/test-sites/e-commerce/static/computers/laptops?page=13\n",
      "https://webscraper.io/test-sites/e-commerce/static/computers/laptops?page=14\n",
      "https://webscraper.io/test-sites/e-commerce/static/computers/laptops?page=15\n",
      "https://webscraper.io/test-sites/e-commerce/static/computers/laptops?page=16\n",
      "https://webscraper.io/test-sites/e-commerce/static/computers/laptops?page=17\n",
      "https://webscraper.io/test-sites/e-commerce/static/computers/laptops?page=18\n",
      "https://webscraper.io/test-sites/e-commerce/static/computers/laptops?page=19\n",
      "https://webscraper.io/test-sites/e-commerce/static/computers/laptops?page=20\n"
     ]
    }
   ],
   "source": [
    "for val in url_lst:\n",
    "    print(val)"
   ]
  },
  {
   "cell_type": "code",
   "execution_count": null,
   "id": "7b6f6e25",
   "metadata": {},
   "outputs": [],
   "source": []
  },
  {
   "cell_type": "code",
   "execution_count": 31,
   "id": "b7b266e2",
   "metadata": {},
   "outputs": [],
   "source": [
    "all_product_list = []\n",
    "for url_item in url_lst:\n",
    "    raw_data = requests.get(url_item).text\n",
    "    soup = BeautifulSoup(raw_data,'lxml')\n",
    "    all_divs = soup.find_all('div',class_=\"col-sm-4 col-lg-4 col-md-4\")\n",
    "    \n",
    "    for item in all_divs:\n",
    "        product_name = item.find('a').text\n",
    "        product_link = item.find('a')['href']\n",
    "        product_link = 'https://webscraper.io/'+product_link\n",
    "        product_price = item.find('h4',class_='pull-right price').text\n",
    "        description = item.find('p',class_='description').text\n",
    "        rating = item.find('p',class_='pull-right').text\n",
    "        \n",
    "        prod_dict = {\n",
    "            'Product Name':product_name,\n",
    "            'Product Link':product_link,\n",
    "            'Product Price':product_price,\n",
    "            'Prodcut Description':description,\n",
    "            'Product Rating':rating\n",
    "        }\n",
    "        \n",
    "        all_product_list.append(prod_dict)"
   ]
  },
  {
   "cell_type": "code",
   "execution_count": 32,
   "id": "20bd1247",
   "metadata": {},
   "outputs": [],
   "source": [
    "import pandas as pd"
   ]
  },
  {
   "cell_type": "code",
   "execution_count": 33,
   "id": "532db803",
   "metadata": {},
   "outputs": [],
   "source": [
    "df = pd.DataFrame(all_product_list)"
   ]
  },
  {
   "cell_type": "code",
   "execution_count": 35,
   "id": "2c7dda4b",
   "metadata": {},
   "outputs": [],
   "source": [
    "df.to_csv('E-Commerce-Data.csv')"
   ]
  },
  {
   "cell_type": "code",
   "execution_count": null,
   "id": "9633c628",
   "metadata": {},
   "outputs": [],
   "source": []
  }
 ],
 "metadata": {
  "kernelspec": {
   "display_name": "Python 3 (ipykernel)",
   "language": "python",
   "name": "python3"
  },
  "language_info": {
   "codemirror_mode": {
    "name": "ipython",
    "version": 3
   },
   "file_extension": ".py",
   "mimetype": "text/x-python",
   "name": "python",
   "nbconvert_exporter": "python",
   "pygments_lexer": "ipython3",
   "version": "3.8.8"
  }
 },
 "nbformat": 4,
 "nbformat_minor": 5
}
